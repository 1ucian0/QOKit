{
 "cells": [
  {
   "cell_type": "code",
   "execution_count": null,
   "metadata": {},
   "outputs": [],
   "source": [
    "import numpy as np\n",
    "import qokit\n",
    "import scipy.optimize\n",
    "from qokit import parameter_utils\n",
    "import qokit.fur "
   ]
  },
  {
   "cell_type": "markdown",
   "metadata": {},
   "source": [
    "# Optimize QAOA parameters for LABS problem\n",
    "\n",
    "We'll show an example of optimizing overlap with the ground state. Expectation value optimization is analogous.\n",
    "\n",
    "\n",
    "First, let's get known parameters for largest depth $p$ that we have. QOKit has a built-in set of good LABS parameters."
   ]
  },
  {
   "cell_type": "code",
   "execution_count": null,
   "metadata": {},
   "outputs": [],
   "source": [
    "N = 10\n",
    "parameters = parameter_utils.get_best_known_parameters_for_LABS_wrt_overlap(N)\n",
    "known_p = parameters.p.max()\n",
    "print(f\"Maximum p available for N={N} is {known_p}\")\n",
    "parameters.head()"
   ]
  },
  {
   "cell_type": "markdown",
   "metadata": {},
   "source": [
    "Now that we have the parameters for `p_known`, let's find parameters for a larger depth! We will extrapolate the parameters that we already know to have a good starting point for optimization"
   ]
  },
  {
   "cell_type": "code",
   "execution_count": null,
   "metadata": {},
   "outputs": [],
   "source": [
    "p = known_p + 1\n",
    "gamma, beta = parameter_utils.get_best_known_parameters_for_LABS_wrt_overlap_for_p(N, known_p)"
   ]
  },
  {
   "cell_type": "markdown",
   "metadata": {},
   "source": [
    "The next cell will find an initial guess and create a function which maps parameters to the overlap. We can use `get_qaoa_labs_objective` with different parameterizations, but in this case, we'll use Fourier-transformed basis. \n",
    "\n",
    "The simulation will run on GPU if it is available, and if the problem is small, you will get a `NumbaPerformanceWarning`, which just indicates that you're not saturating capabilities of your GPU."
   ]
  },
  {
   "cell_type": "code",
   "execution_count": null,
   "metadata": {},
   "outputs": [],
   "source": [
    "u, v = parameter_utils.to_fourier_basis(gamma, beta)\n",
    "init_u, init_v = parameter_utils.extrapolate_parameters_in_fourier_basis(u, v, p, 1)\n",
    "init_freq = np.hstack([init_u, init_v])\n",
    "f = qokit.get_qaoa_labs_objective(N, p, parameterization='freq', objective='overlap')"
   ]
  },
  {
   "cell_type": "code",
   "execution_count": null,
   "metadata": {},
   "outputs": [],
   "source": [
    "print(f\"Success probability at p={p} before optimization is {1-f(init_freq)}\")"
   ]
  },
  {
   "cell_type": "markdown",
   "metadata": {},
   "source": [
    "We will try optimizing further!\n",
    "\n",
    "Specifically, we will extrapolate the parameters in the fourier basis using the interpolation scheme of https://arxiv.org/abs/1812.01041 and then optimize in the fourier basis"
   ]
  },
  {
   "cell_type": "code",
   "execution_count": null,
   "metadata": {},
   "outputs": [],
   "source": [
    "res = scipy.optimize.minimize(f, init_freq, method='COBYLA', options={'rhobeg': 0.01/N})"
   ]
  },
  {
   "cell_type": "code",
   "execution_count": null,
   "metadata": {},
   "outputs": [],
   "source": [
    "beta, gamma = parameter_utils.from_fourier_basis(res.x[:p], res.x[p:])\n",
    "f_bg = qokit.get_qaoa_labs_objective(N, p, parameterization='gamma beta', objective='overlap')\n",
    "\n",
    "print(f'Success probability at p={p} after optimization is {1-f_bg(gamma, beta)}')"
   ]
  },
  {
   "cell_type": "markdown",
   "metadata": {},
   "source": [
    "Now we can use these parameters to solve LABS on a quantum computer!\n",
    "\n",
    "---"
   ]
  }
 ],
 "metadata": {
  "kernelspec": {
   "display_name": "qokit",
   "language": "python",
   "name": "qokit"
  },
  "language_info": {
   "codemirror_mode": {
    "name": "ipython",
    "version": 3
   },
   "file_extension": ".py",
   "mimetype": "text/x-python",
   "name": "python",
   "nbconvert_exporter": "python",
   "pygments_lexer": "ipython3",
   "version": "3.9.4"
  }
 },
 "nbformat": 4,
 "nbformat_minor": 4
}
